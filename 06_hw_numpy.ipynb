{
  "cells": [
    {
      "cell_type": "markdown",
      "metadata": {
        "id": "Sn1Q2q2J8mfK"
      },
      "source": [
        "# Домашняя работа. Numpy\n",
        "\n",
        "1. Скачайте этот ноутбук к себе.\n",
        "2. Заполните пропущенные ячейки, отвечая на заданные вопросы. Там должен быть код! (если не сказано обратное)\n",
        "3. Сохраните результат в своём гитхаб репозитории.\n",
        "\n",
        "#### Полезная литература\n",
        "\n",
        "- http://www.numpy.org/\n",
        "- https://jakevdp.github.io/PythonDataScienceHandbook/02.00-introduction-to-numpy.html\n",
        "- https://docs.scipy.org/doc/numpy/user/quickstart.html"
      ]
    },
    {
      "cell_type": "markdown",
      "metadata": {
        "id": "-XFAA5QR8mfM"
      },
      "source": [
        "1) Импортировать numpy и написать версию"
      ]
    },
    {
      "cell_type": "code",
      "execution_count": 73,
      "metadata": {
        "colab": {
          "base_uri": "https://localhost:8080/"
        },
        "id": "SuizGoZf8mfN",
        "outputId": "09c6b950-4240-41c7-ce84-193832a1b741"
      },
      "outputs": [
        {
          "output_type": "stream",
          "name": "stdout",
          "text": [
            "1.23.5\n"
          ]
        }
      ],
      "source": [
        "import numpy as np\n",
        "print (np.__version__)"
      ]
    },
    {
      "cell_type": "markdown",
      "metadata": {
        "id": "3we0oDWv8mfN"
      },
      "source": [
        "2) Создать нулевой вектор размера 10"
      ]
    },
    {
      "cell_type": "code",
      "execution_count": null,
      "metadata": {
        "id": "kWKk7u0p8mfO"
      },
      "outputs": [],
      "source": [
        "arr = np.zeros(10)"
      ]
    },
    {
      "cell_type": "markdown",
      "metadata": {
        "id": "tMn9FBaL8mfO"
      },
      "source": [
        "3) Создать вектор заполненный 7-ами размера 7"
      ]
    },
    {
      "cell_type": "code",
      "execution_count": null,
      "metadata": {
        "colab": {
          "base_uri": "https://localhost:8080/"
        },
        "id": "JrzFD7Lr8mfO",
        "outputId": "a70fdc65-b8f7-44dd-b7df-192041d73cad"
      },
      "outputs": [
        {
          "output_type": "execute_result",
          "data": {
            "text/plain": [
              "array([7, 7, 7, 7, 7, 7, 7])"
            ]
          },
          "metadata": {},
          "execution_count": 12
        }
      ],
      "source": [
        "np.full((7), 7)"
      ]
    },
    {
      "cell_type": "markdown",
      "metadata": {
        "id": "LPxz3A-p8mfO"
      },
      "source": [
        "4) Создать вектор заполненный четными числами от 10 до 100"
      ]
    },
    {
      "cell_type": "code",
      "execution_count": null,
      "metadata": {
        "colab": {
          "base_uri": "https://localhost:8080/"
        },
        "id": "8hGTUVMY8mfO",
        "outputId": "0aa02081-5e58-46fa-adc2-d89e76092e9c"
      },
      "outputs": [
        {
          "output_type": "execute_result",
          "data": {
            "text/plain": [
              "array([ 10,  12,  14,  16,  18,  20,  22,  24,  26,  28,  30,  32,  34,\n",
              "        36,  38,  40,  42,  44,  46,  48,  50,  52,  54,  56,  58,  60,\n",
              "        62,  64,  66,  68,  70,  72,  74,  76,  78,  80,  82,  84,  86,\n",
              "        88,  90,  92,  94,  96,  98, 100])"
            ]
          },
          "metadata": {},
          "execution_count": 13
        }
      ],
      "source": [
        "np.arange(10,101)[::2]"
      ]
    },
    {
      "cell_type": "markdown",
      "metadata": {
        "id": "5kLzWxkG8mfO"
      },
      "source": [
        "5) Создать массив случайных чисел и развернуть его задом наперёд"
      ]
    },
    {
      "cell_type": "code",
      "execution_count": null,
      "metadata": {
        "colab": {
          "base_uri": "https://localhost:8080/"
        },
        "id": "LCQpFHsn8mfP",
        "outputId": "85980364-56d8-470a-de93-e8286467ff4f"
      },
      "outputs": [
        {
          "output_type": "execute_result",
          "data": {
            "text/plain": [
              "array([0.68133134, 0.07892476, 0.54134449, 0.02463444, 0.31691169,\n",
              "       0.42049616, 0.8995651 , 0.76473248, 0.39129959, 0.37724126])"
            ]
          },
          "metadata": {},
          "execution_count": 14
        }
      ],
      "source": [
        "np.random.random_sample(10)[::-1]"
      ]
    },
    {
      "cell_type": "markdown",
      "metadata": {
        "id": "7fpS7IF08mfP"
      },
      "source": [
        "6) Создать двумерную матрицу размера 3 на 3, заполненную числами от 0 до 9"
      ]
    },
    {
      "cell_type": "code",
      "execution_count": null,
      "metadata": {
        "colab": {
          "base_uri": "https://localhost:8080/"
        },
        "id": "LjJRoTKD8mfP",
        "outputId": "e5679020-731f-4bee-ab96-53e67ca9c566"
      },
      "outputs": [
        {
          "output_type": "execute_result",
          "data": {
            "text/plain": [
              "array([[0, 1, 2],\n",
              "       [3, 4, 5],\n",
              "       [6, 7, 8]])"
            ]
          },
          "metadata": {},
          "execution_count": 15
        }
      ],
      "source": [
        "np.arange(9).reshape(3,3)"
      ]
    },
    {
      "cell_type": "markdown",
      "metadata": {
        "id": "VKuge11y8mfP"
      },
      "source": [
        "7) Создать матрицу размера 4 на 4 с единицами на диагонали смещеной на один наверх."
      ]
    },
    {
      "cell_type": "code",
      "execution_count": null,
      "metadata": {
        "colab": {
          "base_uri": "https://localhost:8080/"
        },
        "id": "mlgMSuPF8mfP",
        "outputId": "57459543-ef97-47b1-a58e-5d29000a11d2"
      },
      "outputs": [
        {
          "output_type": "execute_result",
          "data": {
            "text/plain": [
              "array([[0., 1., 0., 0.],\n",
              "       [0., 0., 1., 0.],\n",
              "       [0., 0., 0., 1.],\n",
              "       [0., 0., 0., 0.]])"
            ]
          },
          "metadata": {},
          "execution_count": 16
        }
      ],
      "source": [
        "np.eye(4, k = 1)"
      ]
    },
    {
      "cell_type": "markdown",
      "metadata": {
        "id": "kQZmsm7n8mfP"
      },
      "source": [
        "8) Создать матрицу с числами в диапазоне от 1 до 4 по диагонали. В других ячейках матрицы должны быть семерки."
      ]
    },
    {
      "cell_type": "code",
      "execution_count": null,
      "metadata": {
        "colab": {
          "base_uri": "https://localhost:8080/"
        },
        "id": "CtplFFKV8mfQ",
        "outputId": "2873ff17-1fd1-4111-85a3-4b9b6471e175"
      },
      "outputs": [
        {
          "output_type": "stream",
          "name": "stdout",
          "text": [
            "[[1 7 7 7]\n",
            " [7 2 7 7]\n",
            " [7 7 3 7]\n",
            " [7 7 7 4]]\n"
          ]
        }
      ],
      "source": [
        "arr = np.full((4,4),7)\n",
        "np.fill_diagonal(arr, [1,2,3,4])\n",
        "print(arr)"
      ]
    },
    {
      "cell_type": "markdown",
      "metadata": {
        "id": "WT52mvaB8mfQ"
      },
      "source": [
        "9) Создать матрицу размера 5 на 5 заполненную чилами от 0 до 4 в строках."
      ]
    },
    {
      "cell_type": "code",
      "execution_count": null,
      "metadata": {
        "colab": {
          "base_uri": "https://localhost:8080/"
        },
        "id": "R459WFd_8mfQ",
        "outputId": "e86a2788-6c47-4596-f5d5-35a6d8a76978"
      },
      "outputs": [
        {
          "output_type": "execute_result",
          "data": {
            "text/plain": [
              "array([[0, 1, 2, 3, 4],\n",
              "       [0, 1, 2, 3, 4],\n",
              "       [0, 1, 2, 3, 4],\n",
              "       [0, 1, 2, 3, 4],\n",
              "       [0, 1, 2, 3, 4]])"
            ]
          },
          "metadata": {},
          "execution_count": 19
        }
      ],
      "source": [
        "np.full((5,5),[0,1,2,3,4])"
      ]
    },
    {
      "cell_type": "markdown",
      "metadata": {
        "id": "FL7YRbAk8mfQ"
      },
      "source": [
        "10) Создать матрицу случайных чисел размера 10 на 10 и отнять среднее по строкам из каждого элемента строки"
      ]
    },
    {
      "cell_type": "code",
      "execution_count": null,
      "metadata": {
        "id": "ToipsP488mfQ",
        "colab": {
          "base_uri": "https://localhost:8080/"
        },
        "outputId": "04d4391a-c392-49e6-a5a5-a61b99ac572e"
      },
      "outputs": [
        {
          "output_type": "execute_result",
          "data": {
            "text/plain": [
              "array([[-0.30888361,  0.25938385,  0.25689061,  0.33603576, -0.1087439 ,\n",
              "         0.1940388 , -0.39610055,  0.15202867, -0.12837896, -0.25627065],\n",
              "       [-0.38881852,  0.06519389, -0.1337044 ,  0.35090589,  0.23083003,\n",
              "         0.20224917, -0.3215942 ,  0.38290177, -0.04881622, -0.33914742],\n",
              "       [ 0.32552324,  0.0023519 ,  0.09570033,  0.26337979, -0.03656439,\n",
              "        -0.20367326, -0.41359541,  0.28859608, -0.33270237,  0.01098409],\n",
              "       [-0.34848639, -0.13103316,  0.1966713 ,  0.09063679, -0.0608489 ,\n",
              "        -0.0189387 , -0.22471743,  0.2072442 ,  0.03366265,  0.25580965],\n",
              "       [-0.20361176,  0.26679145,  0.23007517,  0.1522291 , -0.28681007,\n",
              "        -0.27405572, -0.33162997,  0.23652548,  0.12533675,  0.08514957],\n",
              "       [-0.32249617,  0.24725506,  0.38832018,  0.06389509,  0.32708788,\n",
              "        -0.37932832, -0.0225197 , -0.21302813,  0.04009028, -0.12927618],\n",
              "       [-0.02394033,  0.32294176, -0.0199305 , -0.52331423,  0.0116842 ,\n",
              "         0.09536932,  0.17169568,  0.02403105, -0.11745942,  0.05892246],\n",
              "       [ 0.39083519,  0.0465929 ,  0.05824024, -0.32420582, -0.26056163,\n",
              "        -0.10186805, -0.22054758,  0.37873618,  0.4475861 , -0.41480753],\n",
              "       [-0.2124556 , -0.35312118,  0.03794995, -0.1006846 ,  0.50338105,\n",
              "         0.05011741, -0.09135197, -0.0271009 , -0.07444735,  0.26771319],\n",
              "       [-0.40184072,  0.38809385, -0.18511116, -0.27780287, -0.23596063,\n",
              "         0.17371693,  0.55127861,  0.03694985,  0.07502529, -0.12434915]])"
            ]
          },
          "metadata": {},
          "execution_count": 15
        }
      ],
      "source": [
        "matrix = np.random.random_sample((10,10))\n",
        "matrix_mean = matrix - matrix.mean(axis = 1, keepdims=True)\n",
        "matrix_mean"
      ]
    },
    {
      "cell_type": "markdown",
      "metadata": {
        "id": "UafVK0eb8mfQ"
      },
      "source": [
        "11) Создать матрицу случайных чисел размера 10 на 10 и отнять медиану по столбцам из каждого элемента столбца  "
      ]
    },
    {
      "cell_type": "code",
      "execution_count": null,
      "metadata": {
        "id": "hVOgUltA8mfQ",
        "colab": {
          "base_uri": "https://localhost:8080/"
        },
        "outputId": "37bce846-5516-41f0-a5cf-fcc7d480972d"
      },
      "outputs": [
        {
          "output_type": "execute_result",
          "data": {
            "text/plain": [
              "array([[-0.43401789,  0.60241672,  0.12954493,  0.03058172,  0.67469096,\n",
              "         0.16723439,  0.16549938,  0.16723439,  0.16549938],\n",
              "       [ 0.        , -0.35286159,  0.        , -0.15505096, -0.14461048,\n",
              "        -0.13933088, -0.06214303, -0.13933088, -0.06214303],\n",
              "       [ 0.08653529,  0.        , -0.63865976,  0.42200029,  0.        ,\n",
              "         0.17341657, -0.04059102,  0.17341657, -0.04059102],\n",
              "       [ 0.13933088,  0.33912481, -0.19877592, -0.39993914, -0.23139158,\n",
              "         0.        ,  0.        ,  0.        ,  0.        ],\n",
              "       [-0.23766693, -0.26036539,  0.13264704,  0.        ,  0.14673111,\n",
              "        -0.00813236,  0.03035317, -0.00813236,  0.03035317]])"
            ]
          },
          "metadata": {},
          "execution_count": 59
        }
      ],
      "source": [
        "martix = np.random.random_sample((10,10))\n",
        "matrix_median = matrix - np.median(matrix,axis = 0,keepdims=True)\n",
        "matrix_median"
      ]
    },
    {
      "cell_type": "markdown",
      "metadata": {
        "id": "gSyVdfap8mfQ"
      },
      "source": [
        "12) Создать матрицу случайных чисел 5x5. Добавить к ней столбецы максимумов и минимумов по строкам. Получится матрица 5x7.  "
      ]
    },
    {
      "cell_type": "code",
      "execution_count": null,
      "metadata": {
        "id": "ypbnQifJ8mfQ",
        "colab": {
          "base_uri": "https://localhost:8080/"
        },
        "outputId": "91d34f86-a455-411a-fb75-e8e5e18c5bdd"
      },
      "outputs": [
        {
          "output_type": "stream",
          "name": "stdout",
          "text": [
            "[[0.23983404 0.96746994 0.80194834 0.59518082 0.9804172  0.9804172\n",
            "  0.23983404]\n",
            " [0.67385193 0.01219163 0.67240341 0.40954814 0.16111577 0.67385193\n",
            "  0.01219163]\n",
            " [0.76038722 0.36505323 0.03374365 0.98659938 0.30572625 0.98659938\n",
            "  0.03374365]\n",
            " [0.81318281 0.70417804 0.47362749 0.16465996 0.07433467 0.81318281\n",
            "  0.07433467]\n",
            " [0.43618501 0.10468784 0.80505045 0.5645991  0.45245736 0.80505045\n",
            "  0.10468784]]\n"
          ]
        }
      ],
      "source": [
        "matrix = np.random.random_sample((5,5))\n",
        "matrix = np.concatenate((arr,arr.max(axis =1,keepdims=True),arr.min(axis =1,keepdims=True)),axis = 1)\n",
        "print(arr)"
      ]
    },
    {
      "cell_type": "markdown",
      "metadata": {
        "id": "G8yhJ-nQ8mfQ"
      },
      "source": [
        "13) Вектор чисел от 1 до 51 преобразовать в вектор нечетных чисел и в вектор четных чисел, поменять их размерности, чтобы получились две матрица. Найти произведение этих матриц. Найти обратную матрицу эётого произведения.  "
      ]
    },
    {
      "cell_type": "code",
      "execution_count": 94,
      "metadata": {
        "id": "xdFpGRAP8mfR",
        "colab": {
          "base_uri": "https://localhost:8080/"
        },
        "outputId": "e06020d3-f54d-4ecb-f6f5-43a4e2c84426"
      },
      "outputs": [
        {
          "output_type": "stream",
          "name": "stdout",
          "text": [
            "[[ 2  4  6  8 10 12]\n",
            " [14 16 18 20 22 24]\n",
            " [26 28 30 32 34 36]\n",
            " [38 40 42 44 46 48]]\n",
            "[[ 3  5  7  9]\n",
            " [11 13 15 17]\n",
            " [19 21 23 25]\n",
            " [27 29 31 33]\n",
            " [35 37 39 41]\n",
            " [43 45 47 49]]\n",
            "[[1246 1330 1414 1498]\n",
            " [2902 3130 3358 3586]\n",
            " [4558 4930 5302 5674]\n",
            " [6214 6730 7246 7762]]\n",
            "[[-3.66503876e+11  3.21853878e-04  1.09951163e+12 -7.33007752e+11]\n",
            " [-7.33007752e+11  2.19902326e+12 -2.19902326e+12  7.33007752e+11]\n",
            " [ 2.56552713e+12 -4.39804651e+12  1.09951163e+12  7.33007752e+11]\n",
            " [-1.46601550e+12  2.19902326e+12  0.00000000e+00 -7.33007752e+11]]\n"
          ]
        }
      ],
      "source": [
        "m1 = np.mat(np.arange(1, 50)[1::2].reshape(4,6))\n",
        "print(m1)\n",
        "m2 = np.mat(np.arange(1, 50)[2::2].reshape(6,4))\n",
        "print(m2)\n",
        "m3 = m1*m2\n",
        "print(m3)\n",
        "m = np.linalg.inv(m3)\n",
        "print(m)"
      ]
    },
    {
      "cell_type": "markdown",
      "metadata": {
        "id": "baA3aJ-e8mfR"
      },
      "source": [
        "14) Создать 8x8 матрицу и заполнить её в шахматном порядке нулями и единицами."
      ]
    },
    {
      "cell_type": "code",
      "execution_count": null,
      "metadata": {
        "id": "dDmBo7Vn8mfR",
        "colab": {
          "base_uri": "https://localhost:8080/"
        },
        "outputId": "dbc0087b-060d-41ea-d7f0-9552bb2ea8fa"
      },
      "outputs": [
        {
          "output_type": "stream",
          "name": "stdout",
          "text": [
            "[[0 1 0 1 0 1 0 1]\n",
            " [1 0 1 0 1 0 1 0]\n",
            " [0 1 0 1 0 1 0 1]\n",
            " [1 0 1 0 1 0 1 0]\n",
            " [0 1 0 1 0 1 0 1]\n",
            " [1 0 1 0 1 0 1 0]\n",
            " [0 1 0 1 0 1 0 1]\n",
            " [1 0 1 0 1 0 1 0]]\n"
          ]
        }
      ],
      "source": [
        "matrix = np.ones((3,3))\n",
        "matrix = np.zeros((8,8),dtype=int)\n",
        "matrix[1::2,::2] = 1\n",
        "matrix[::2,1::2] = 1\n",
        "print(matrix)"
      ]
    }
  ],
  "metadata": {
    "kernelspec": {
      "display_name": "Python 3 (ipykernel)",
      "language": "python",
      "name": "python3"
    },
    "language_info": {
      "codemirror_mode": {
        "name": "ipython",
        "version": 3
      },
      "file_extension": ".py",
      "mimetype": "text/x-python",
      "name": "python",
      "nbconvert_exporter": "python",
      "pygments_lexer": "ipython3",
      "version": "3.10.1"
    },
    "colab": {
      "provenance": []
    }
  },
  "nbformat": 4,
  "nbformat_minor": 0
}